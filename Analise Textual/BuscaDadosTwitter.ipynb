{
 "metadata": {
  "language_info": {
   "codemirror_mode": {
    "name": "ipython",
    "version": 3
   },
   "file_extension": ".py",
   "mimetype": "text/x-python",
   "name": "python",
   "nbconvert_exporter": "python",
   "pygments_lexer": "ipython3",
   "version": "3.7.9-final"
  },
  "orig_nbformat": 2,
  "kernelspec": {
   "name": "python3",
   "display_name": "Python 3",
   "language": "python"
  }
 },
 "nbformat": 4,
 "nbformat_minor": 2,
 "cells": [
  {
   "source": [
    "# Recuperação de dados no Twitter\n",
    "\n",
    "Este notebook tem como objetivo demostrar a recuperação de dados no tweeter, via API e persistir as informações em documentos para posterior uso."
   ],
   "cell_type": "markdown",
   "metadata": {}
  },
  {
   "source": [
    "## Imports\n",
    "\n",
    "Vamos utilizar nesse exemplo as bibliotecas:\n",
    "\n",
    "* os: Para acesso aos recursos do sistema operacional\n",
    "* tweepy: Para acesso ao twitter (login, coleta)\n",
    "* pandas: Para manipulação dos dados no formato tabular"
   ],
   "cell_type": "markdown",
   "metadata": {}
  },
  {
   "cell_type": "code",
   "execution_count": 1,
   "metadata": {},
   "outputs": [],
   "source": [
    "import os\n",
    "import tweepy\n",
    "import pandas as pd"
   ]
  },
  {
   "source": [
    "## Carregamento das chaves de acesso\n",
    "\n",
    "As chaves de acesso podem ser geradas através do portal do desenvolvedor do Twitter.\n",
    "\n",
    "* Site do Twitter: https://twitter.com/ (Links para um site externo.)\n",
    "\n",
    "* Área de desenvolvedor https://developer.twitter.com/en/apply/user (Links para um site externo.)\n",
    "\n",
    "* Área de aplicativos https://developer.twitter.com/en/apps (Links para um site externo.)"
   ],
   "cell_type": "markdown",
   "metadata": {}
  },
  {
   "cell_type": "code",
   "execution_count": 2,
   "metadata": {},
   "outputs": [],
   "source": [
    "consumer_key =  os.environ['tweety_consumer_key']\n",
    "consumer_secret = os.environ['tweety_consumer_secret']\n",
    "access_token = os.environ['tweety_access_token']\n",
    "acess_token_secret = os.environ['tweety_acess_token_secret']\n",
    "\n",
    "auth = tweepy.OAuthHandler(consumer_key, consumer_secret)\n",
    "auth.set_access_token(access_token, acess_token_secret)\n",
    "api = tweepy.API(auth)"
   ]
  },
  {
   "source": [
    "## Dataframe\n",
    "\n",
    "Vamos utilizar um dataframe para persistir nossos registros obtidos a partir do stream de twetts. O Dataframe é similar a uma planilha."
   ],
   "cell_type": "markdown",
   "metadata": {}
  },
  {
   "cell_type": "code",
   "execution_count": 3,
   "metadata": {},
   "outputs": [
    {
     "output_type": "execute_result",
     "data": {
      "text/plain": [
       "Empty DataFrame\n",
       "Columns: [name, description, created_at, text, location, retweeted, owner_name, owner_location, owner_created_at, retweeted_count]\n",
       "Index: []"
      ],
      "text/html": "<div>\n<style scoped>\n    .dataframe tbody tr th:only-of-type {\n        vertical-align: middle;\n    }\n\n    .dataframe tbody tr th {\n        vertical-align: top;\n    }\n\n    .dataframe thead th {\n        text-align: right;\n    }\n</style>\n<table border=\"1\" class=\"dataframe\">\n  <thead>\n    <tr style=\"text-align: right;\">\n      <th></th>\n      <th>name</th>\n      <th>description</th>\n      <th>created_at</th>\n      <th>text</th>\n      <th>location</th>\n      <th>retweeted</th>\n      <th>owner_name</th>\n      <th>owner_location</th>\n      <th>owner_created_at</th>\n      <th>retweeted_count</th>\n    </tr>\n  </thead>\n  <tbody>\n  </tbody>\n</table>\n</div>"
     },
     "metadata": {},
     "execution_count": 3
    }
   ],
   "source": [
    "df = pd.DataFrame(columns=['name', 'description', 'created_at', 'text', 'location', 'retweeted', 'owner_name', 'owner_location', 'owner_created_at', 'retweeted_count'])\n",
    "\n",
    "df.head()"
   ]
  },
  {
   "source": [
    "## Streamlistener\n",
    "\n",
    "Vamos criar um stream listener que ira receber os twittes de acordo com a pesquisa que fizermos. Para isso vamos extender uma classe do pacote tweepy e fazer nossa implementação."
   ],
   "cell_type": "markdown",
   "metadata": {}
  },
  {
   "cell_type": "code",
   "execution_count": 4,
   "metadata": {},
   "outputs": [],
   "source": [
    "class StreamListner(tweepy.StreamListener):\n",
    "    def __init__(self, df):\n",
    "        super().__init__()\n",
    "        self.__df__ = df\n",
    "\n",
    "    def on_status(self, status):\n",
    "        json = dict(status._json)\n",
    "        user = json['user']\n",
    "        \n",
    "        retweety = json.get('retweeted_status')\n",
    "        retweety_user = retweety['user'] if retweety != None and retweety.get('user') != None else None\n",
    "\n",
    "        obj = { 'name': user['name'], 'description': user['description'], 'created_at': json['created_at'], 'text': json['text'], 'location': user.get('location'), 'retweeted': retweety != None }\n",
    "\n",
    "        if retweety != None:\n",
    "            obj['owner_name'] = retweety_user['name']\n",
    "            obj['owner_location'] = retweety_user.get('location')\n",
    "            obj['owner_created_at'] = retweety['created_at']\n",
    "            obj['retweeted_count'] = retweety.get('retweet_count', 0)\n",
    "        \n",
    "        self.__df__ = self.__df__.append(obj, ignore_index=True)\n",
    "        \n",
    "\n",
    "    def on_error(self, status_code):\n",
    "        if status_code == 420:\n",
    "            return False\n",
    "\n",
    "    @property\n",
    "    def df(self):\n",
    "        return self.__df__"
   ]
  },
  {
   "source": [
    "### Definir o(s) termo(s) de pesquisa.\n",
    "\n",
    "Podemos definir os n termos que serão utilizados para pesquisa"
   ],
   "cell_type": "markdown",
   "metadata": {}
  },
  {
   "cell_type": "code",
   "execution_count": 5,
   "metadata": {},
   "outputs": [],
   "source": [
    "track = ['covid19', 'covid-19', 'sars-cov-2', 'coronavirus', 'corona-virus', 'coronavac', 'vacina']"
   ]
  },
  {
   "source": [
    "Criamos o objeto responsável pela busca dos twittes"
   ],
   "cell_type": "markdown",
   "metadata": {}
  },
  {
   "cell_type": "code",
   "execution_count": 6,
   "metadata": {},
   "outputs": [],
   "source": [
    "stream_listner = StreamListner(df)\n",
    "stream = tweepy.Stream(auth=api.auth, listener=stream_listner)\n",
    "stream.filter(track=track, languages=['pt'], is_async=True)"
   ]
  },
  {
   "source": [
    "## Visualização dos registros - Obtidos pelo stream\n",
    "\n",
    "Vamos visualizar os registros obtidos pelo stream atraves do dataframe"
   ],
   "cell_type": "markdown",
   "metadata": {}
  },
  {
   "cell_type": "code",
   "execution_count": 12,
   "metadata": {},
   "outputs": [
    {
     "output_type": "execute_result",
     "data": {
      "text/plain": [
       "                                 name  \\\n",
       "0                       lore de áries   \n",
       "1                           _ouriki_ツ   \n",
       "2                  Pablo Verdolaga 🇧🇷   \n",
       "3                          kátia mano   \n",
       "4                            carolina   \n",
       "...                               ...   \n",
       "1137                             dtom   \n",
       "1138                 Danielle Almeida   \n",
       "1139                                n   \n",
       "1140                      Ailton Soff   \n",
       "1141  Marcos José dos Nascimento Mjsn   \n",
       "\n",
       "                                            description  \\\n",
       "0     Sofrendo por séries e casais desde 1997 , fã d...   \n",
       "1                                        n me julgue :v   \n",
       "2     PERFIL FOCADO EM ASSUNTOS POLÍTICOS E OPINIÕES...   \n",
       "3     Dentista, crocheteira, mãe, atéia, petista e s...   \n",
       "4                                                   777   \n",
       "...                                                 ...   \n",
       "1137                Tudo postado inclui opinião pessoal   \n",
       "1138                                                 hi   \n",
       "1139                                              🤸🏻‍♀️   \n",
       "1140           A vida é bela, a gente que enfeia ela!!!   \n",
       "1141                                         SERENIDADE   \n",
       "\n",
       "                          created_at  \\\n",
       "0     Mon Feb 01 14:05:37 +0000 2021   \n",
       "1     Mon Feb 01 14:05:37 +0000 2021   \n",
       "2     Mon Feb 01 14:05:38 +0000 2021   \n",
       "3     Mon Feb 01 14:05:38 +0000 2021   \n",
       "4     Mon Feb 01 14:05:38 +0000 2021   \n",
       "...                              ...   \n",
       "1137  Mon Feb 01 14:19:10 +0000 2021   \n",
       "1138  Mon Feb 01 14:19:11 +0000 2021   \n",
       "1139  Mon Feb 01 14:19:12 +0000 2021   \n",
       "1140  Mon Feb 01 14:19:12 +0000 2021   \n",
       "1141  Mon Feb 01 14:19:12 +0000 2021   \n",
       "\n",
       "                                                   text  \\\n",
       "0     RT @drysanaoliveira: Não bastando a pandemia, ...   \n",
       "1     @videovergonhakk O meu filho n toma vacina é t...   \n",
       "2     RT @brunaobarreto3: Não pode:\\n\\n- Nomear como...   \n",
       "3     @roberta_bastoss Eu acredito.  Mas a diferença...   \n",
       "4     eu e os meus amigos em 2075 quando finalmente ...   \n",
       "...                                                 ...   \n",
       "1137  RT @DOprimido: E pensar que tinha governante i...   \n",
       "1138  RT @FMouraBrasil: Ao lado do negacionista Bols...   \n",
       "1139  cara deveriam ter mais postos de vacinação, vi...   \n",
       "1140  RT @FMouraBrasil: Ao lado do negacionista Bols...   \n",
       "1141  RT @rodrigo_rangel: Quantas doses de vacina da...   \n",
       "\n",
       "                          location retweeted               owner_name  \\\n",
       "0     Grey Sloan Memorial Hospital      True                   Capitu   \n",
       "1                             None     False                      NaN   \n",
       "2                        Brasil 🇧🇷      True                   Brunão   \n",
       "3       Copacabana, Rio de Janeiro     False                      NaN   \n",
       "4                             None     False                      NaN   \n",
       "...                            ...       ...                      ...   \n",
       "1137                          None      True  Demagogia do Oprimido 🔥   \n",
       "1138                          None      True      Felipe Moura Brasil   \n",
       "1139                Manaus, Brasil     False                      NaN   \n",
       "1140                        Brasil      True      Felipe Moura Brasil   \n",
       "1141                          None      True           Rodrigo Rangel   \n",
       "\n",
       "           owner_location                owner_created_at retweeted_count  \n",
       "0          Manaus, Brasil  Mon Feb 01 01:49:23 +0000 2021               5  \n",
       "1                     NaN                             NaN             NaN  \n",
       "2                    None  Mon Feb 01 12:23:00 +0000 2021             115  \n",
       "3                     NaN                             NaN             NaN  \n",
       "4                     NaN                             NaN             NaN  \n",
       "...                   ...                             ...             ...  \n",
       "1137                 None  Mon Feb 01 13:32:44 +0000 2021               7  \n",
       "1138       Rio de Janeiro  Mon Feb 01 14:13:32 +0000 2021               6  \n",
       "1139                  NaN                             NaN             NaN  \n",
       "1140       Rio de Janeiro  Mon Feb 01 14:13:32 +0000 2021               7  \n",
       "1141  Brasília-DF, Brasil  Mon Feb 01 13:29:13 +0000 2021              21  \n",
       "\n",
       "[1142 rows x 10 columns]"
      ],
      "text/html": "<div>\n<style scoped>\n    .dataframe tbody tr th:only-of-type {\n        vertical-align: middle;\n    }\n\n    .dataframe tbody tr th {\n        vertical-align: top;\n    }\n\n    .dataframe thead th {\n        text-align: right;\n    }\n</style>\n<table border=\"1\" class=\"dataframe\">\n  <thead>\n    <tr style=\"text-align: right;\">\n      <th></th>\n      <th>name</th>\n      <th>description</th>\n      <th>created_at</th>\n      <th>text</th>\n      <th>location</th>\n      <th>retweeted</th>\n      <th>owner_name</th>\n      <th>owner_location</th>\n      <th>owner_created_at</th>\n      <th>retweeted_count</th>\n    </tr>\n  </thead>\n  <tbody>\n    <tr>\n      <th>0</th>\n      <td>lore de áries</td>\n      <td>Sofrendo por séries e casais desde 1997 , fã d...</td>\n      <td>Mon Feb 01 14:05:37 +0000 2021</td>\n      <td>RT @drysanaoliveira: Não bastando a pandemia, ...</td>\n      <td>Grey Sloan Memorial Hospital</td>\n      <td>True</td>\n      <td>Capitu</td>\n      <td>Manaus, Brasil</td>\n      <td>Mon Feb 01 01:49:23 +0000 2021</td>\n      <td>5</td>\n    </tr>\n    <tr>\n      <th>1</th>\n      <td>_ouriki_ツ</td>\n      <td>n me julgue :v</td>\n      <td>Mon Feb 01 14:05:37 +0000 2021</td>\n      <td>@videovergonhakk O meu filho n toma vacina é t...</td>\n      <td>None</td>\n      <td>False</td>\n      <td>NaN</td>\n      <td>NaN</td>\n      <td>NaN</td>\n      <td>NaN</td>\n    </tr>\n    <tr>\n      <th>2</th>\n      <td>Pablo Verdolaga 🇧🇷</td>\n      <td>PERFIL FOCADO EM ASSUNTOS POLÍTICOS E OPINIÕES...</td>\n      <td>Mon Feb 01 14:05:38 +0000 2021</td>\n      <td>RT @brunaobarreto3: Não pode:\\n\\n- Nomear como...</td>\n      <td>Brasil 🇧🇷</td>\n      <td>True</td>\n      <td>Brunão</td>\n      <td>None</td>\n      <td>Mon Feb 01 12:23:00 +0000 2021</td>\n      <td>115</td>\n    </tr>\n    <tr>\n      <th>3</th>\n      <td>kátia mano</td>\n      <td>Dentista, crocheteira, mãe, atéia, petista e s...</td>\n      <td>Mon Feb 01 14:05:38 +0000 2021</td>\n      <td>@roberta_bastoss Eu acredito.  Mas a diferença...</td>\n      <td>Copacabana, Rio de Janeiro</td>\n      <td>False</td>\n      <td>NaN</td>\n      <td>NaN</td>\n      <td>NaN</td>\n      <td>NaN</td>\n    </tr>\n    <tr>\n      <th>4</th>\n      <td>carolina</td>\n      <td>777</td>\n      <td>Mon Feb 01 14:05:38 +0000 2021</td>\n      <td>eu e os meus amigos em 2075 quando finalmente ...</td>\n      <td>None</td>\n      <td>False</td>\n      <td>NaN</td>\n      <td>NaN</td>\n      <td>NaN</td>\n      <td>NaN</td>\n    </tr>\n    <tr>\n      <th>...</th>\n      <td>...</td>\n      <td>...</td>\n      <td>...</td>\n      <td>...</td>\n      <td>...</td>\n      <td>...</td>\n      <td>...</td>\n      <td>...</td>\n      <td>...</td>\n      <td>...</td>\n    </tr>\n    <tr>\n      <th>1137</th>\n      <td>dtom</td>\n      <td>Tudo postado inclui opinião pessoal</td>\n      <td>Mon Feb 01 14:19:10 +0000 2021</td>\n      <td>RT @DOprimido: E pensar que tinha governante i...</td>\n      <td>None</td>\n      <td>True</td>\n      <td>Demagogia do Oprimido 🔥</td>\n      <td>None</td>\n      <td>Mon Feb 01 13:32:44 +0000 2021</td>\n      <td>7</td>\n    </tr>\n    <tr>\n      <th>1138</th>\n      <td>Danielle Almeida</td>\n      <td>hi</td>\n      <td>Mon Feb 01 14:19:11 +0000 2021</td>\n      <td>RT @FMouraBrasil: Ao lado do negacionista Bols...</td>\n      <td>None</td>\n      <td>True</td>\n      <td>Felipe Moura Brasil</td>\n      <td>Rio de Janeiro</td>\n      <td>Mon Feb 01 14:13:32 +0000 2021</td>\n      <td>6</td>\n    </tr>\n    <tr>\n      <th>1139</th>\n      <td>n</td>\n      <td>🤸🏻‍♀️</td>\n      <td>Mon Feb 01 14:19:12 +0000 2021</td>\n      <td>cara deveriam ter mais postos de vacinação, vi...</td>\n      <td>Manaus, Brasil</td>\n      <td>False</td>\n      <td>NaN</td>\n      <td>NaN</td>\n      <td>NaN</td>\n      <td>NaN</td>\n    </tr>\n    <tr>\n      <th>1140</th>\n      <td>Ailton Soff</td>\n      <td>A vida é bela, a gente que enfeia ela!!!</td>\n      <td>Mon Feb 01 14:19:12 +0000 2021</td>\n      <td>RT @FMouraBrasil: Ao lado do negacionista Bols...</td>\n      <td>Brasil</td>\n      <td>True</td>\n      <td>Felipe Moura Brasil</td>\n      <td>Rio de Janeiro</td>\n      <td>Mon Feb 01 14:13:32 +0000 2021</td>\n      <td>7</td>\n    </tr>\n    <tr>\n      <th>1141</th>\n      <td>Marcos José dos Nascimento Mjsn</td>\n      <td>SERENIDADE</td>\n      <td>Mon Feb 01 14:19:12 +0000 2021</td>\n      <td>RT @rodrigo_rangel: Quantas doses de vacina da...</td>\n      <td>None</td>\n      <td>True</td>\n      <td>Rodrigo Rangel</td>\n      <td>Brasília-DF, Brasil</td>\n      <td>Mon Feb 01 13:29:13 +0000 2021</td>\n      <td>21</td>\n    </tr>\n  </tbody>\n</table>\n<p>1142 rows × 10 columns</p>\n</div>"
     },
     "metadata": {},
     "execution_count": 12
    }
   ],
   "source": [
    "df = stream_listner.df\n",
    "df"
   ]
  },
  {
   "cell_type": "code",
   "execution_count": 13,
   "metadata": {},
   "outputs": [],
   "source": [
    "df.to_csv('./datasets/corona.csv')"
   ]
  },
  {
   "cell_type": "code",
   "execution_count": 14,
   "metadata": {},
   "outputs": [],
   "source": [
    "stream.disconnect()"
   ]
  }
 ]
}