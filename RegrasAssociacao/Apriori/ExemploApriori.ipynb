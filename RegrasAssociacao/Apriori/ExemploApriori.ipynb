{
 "cells": [
  {
   "cell_type": "markdown",
   "metadata": {},
   "source": [
    "# Regras de associação\n",
    "\n",
    "Este notebook tem como objetivo demonstar a implementação de um algoritmo que extrai regras de associação existentes em um classico exemplo de um carrinho de compras.\n",
    "\n",
    "## Caso\n",
    "\n",
    "Encontrar uma relação de venda entre produtos de um estabelecimento, onde, sempre que um produto $A$ for adquirido um produto $B$ é adquirido junto."
   ]
  },
  {
   "cell_type": "markdown",
   "metadata": {},
   "source": [
    "### Vendas efetuadas\n",
    "\n",
    "Vamos simular as vendas de determinados produtos em um estabelecimento\n",
    "\n",
    "* Venda 1 - Acuçar, Leite, Pão \n",
    "\n",
    "* Venda 2 - Acuçar, Café, Leite, Pão \n",
    "\n",
    "* Venda 3 - Café, Chocolate em Pó, Leite\n",
    "\n",
    "* Venda 4 - Chocolate em Pó, Leite, Pão\n",
    "\n",
    "* Venda 5 - Café, Pão\n",
    "\n",
    "* Venda 6 - Biscoito, Leite\n",
    "\n",
    "* Venda 7 - Leite, Pão\n",
    "\n",
    "* Venda 8 - Biscoito, Leite, Pão\n",
    "\n",
    "* Venda 9 - Acuçar, Chocolate em Pó, Leite\n",
    "\n",
    "* Venda 10 - Acuçar, Biscoito, Café\n"
   ]
  },
  {
   "cell_type": "code",
   "execution_count": 2,
   "metadata": {
    "tags": []
   },
   "outputs": [
    {
     "output_type": "stream",
     "name": "stdout",
     "text": "[['Acuçar', 'Leite', 'Pão'], ['Acuçar', 'Café', 'Leite', 'Pão'], ['Café', 'Chocolate em Pó', 'Leite'], ['Chocolate em Pó', 'Leite', 'Pão'], ['Café', 'Pão'], ['Biscoito', 'Leite'], ['Leite', 'Pão'], ['Biscoito', 'Leite', 'Pão'], ['Acuçar', 'Chocolate em Pó', 'Leite'], ['Acuçar', 'Biscoito', 'Café']]\n"
    }
   ],
   "source": [
    "vendas = [['Acuçar', 'Leite', 'Pão'],\n",
    "          ['Acuçar', 'Café', 'Leite', 'Pão'],\n",
    "          ['Café', 'Chocolate em Pó', 'Leite'],\n",
    "          ['Chocolate em Pó', 'Leite', 'Pão'],\n",
    "          ['Café', 'Pão'],\n",
    "          ['Biscoito', 'Leite'],\n",
    "          ['Leite', 'Pão'],\n",
    "          ['Biscoito', 'Leite', 'Pão'],\n",
    "          ['Acuçar', 'Chocolate em Pó', 'Leite'],\n",
    "          ['Acuçar', 'Biscoito', 'Café']]\n",
    "\n",
    "print(vendas)"
   ]
  },
  {
   "cell_type": "markdown",
   "metadata": {},
   "source": [
    "## Vamos definir alguns conceitos\n",
    "\n",
    "Para podemos minerar as regras de associação dentro dessas transações de vendas, primeiramente precisamos nos familiarizar com alguns conceitos utilizados por esses algoritmos.\n",
    "\n",
    "### Suporte\n",
    "\n",
    "Suporte é um indicador percentual de quantas vezes uma determinada relação, simbolizada por $A \\xrightarrow[]{} B$, acontece.\n",
    "\n",
    "Ex: Quem compra $Leite$ também compra $Pão$\n",
    "\n",
    "Este indicador é calculado pela seguinte formula:\n",
    "\n",
    "$sup(A \\xrightarrow[]{} B) = \\frac{\\ número \\ de \\ transações \\ com \\ A \\ e \\ B}{\\ número \\ total \\ de \\ transações}$\n",
    "\n",
    "Indo para o nosso exemplo:\n",
    "\n",
    "$sup(A \\xrightarrow[]{} B) = \\frac{Quem \\ compra \\ Leite \\  também \\ compra \\ Pão}{Vendas} = \\frac{5}{10}$ = 0.5\n",
    "\n",
    "### Confiança\n",
    "\n",
    "Confiança é o grau de certeza de uma regra  $A \\xrightarrow[]{} B$ acontecer com base no seu predecessor (nesse caso $A$).\n",
    "\n",
    "$conf(A \\xrightarrow[]{} B) = \\frac{número \\ de \\ transações \\ que \\ suportam \\  A \\ \\cup \\ B}{\\ número \\ de \\ transações \\ que \\ suportam \\ A}$\n",
    "\n",
    "Indo para o nosso exemplo:\n",
    "\n",
    "$conf(A \\xrightarrow[]{} B) = \\frac{Quem \\ compra \\ Leite \\  também \\ compra \\ Pão}{Quem \\ compra \\ Leite} = \\frac{5}{8} = 0.625$"
   ]
  },
  {
   "cell_type": "markdown",
   "metadata": {},
   "source": [
    "## Aplicando o algoritmo\n",
    "\n",
    "Vamos aplicar agora o algoritmo para converter essas transações em uma matriz com valores binarios, 0 ou 1, atrelando cada produto a uma coluna. Se um item for comprado o valor atribuido será 1 caso não tenha sido, será 0."
   ]
  },
  {
   "cell_type": "code",
   "execution_count": 5,
   "metadata": {},
   "outputs": [
    {
     "output_type": "execute_result",
     "data": {
      "text/plain": "   Acuçar  Biscoito   Café  Chocolate em Pó  Leite    Pão\n0    True     False  False            False   True   True\n1    True     False   True            False   True   True\n2   False     False   True             True   True  False\n3   False     False  False             True   True   True\n4   False     False   True            False  False   True\n5   False      True  False            False   True  False\n6   False     False  False            False   True   True\n7   False      True  False            False   True   True\n8    True     False  False             True   True  False\n9    True      True   True            False  False  False",
      "text/html": "<div>\n<style scoped>\n    .dataframe tbody tr th:only-of-type {\n        vertical-align: middle;\n    }\n\n    .dataframe tbody tr th {\n        vertical-align: top;\n    }\n\n    .dataframe thead th {\n        text-align: right;\n    }\n</style>\n<table border=\"1\" class=\"dataframe\">\n  <thead>\n    <tr style=\"text-align: right;\">\n      <th></th>\n      <th>Acuçar</th>\n      <th>Biscoito</th>\n      <th>Café</th>\n      <th>Chocolate em Pó</th>\n      <th>Leite</th>\n      <th>Pão</th>\n    </tr>\n  </thead>\n  <tbody>\n    <tr>\n      <th>0</th>\n      <td>True</td>\n      <td>False</td>\n      <td>False</td>\n      <td>False</td>\n      <td>True</td>\n      <td>True</td>\n    </tr>\n    <tr>\n      <th>1</th>\n      <td>True</td>\n      <td>False</td>\n      <td>True</td>\n      <td>False</td>\n      <td>True</td>\n      <td>True</td>\n    </tr>\n    <tr>\n      <th>2</th>\n      <td>False</td>\n      <td>False</td>\n      <td>True</td>\n      <td>True</td>\n      <td>True</td>\n      <td>False</td>\n    </tr>\n    <tr>\n      <th>3</th>\n      <td>False</td>\n      <td>False</td>\n      <td>False</td>\n      <td>True</td>\n      <td>True</td>\n      <td>True</td>\n    </tr>\n    <tr>\n      <th>4</th>\n      <td>False</td>\n      <td>False</td>\n      <td>True</td>\n      <td>False</td>\n      <td>False</td>\n      <td>True</td>\n    </tr>\n    <tr>\n      <th>5</th>\n      <td>False</td>\n      <td>True</td>\n      <td>False</td>\n      <td>False</td>\n      <td>True</td>\n      <td>False</td>\n    </tr>\n    <tr>\n      <th>6</th>\n      <td>False</td>\n      <td>False</td>\n      <td>False</td>\n      <td>False</td>\n      <td>True</td>\n      <td>True</td>\n    </tr>\n    <tr>\n      <th>7</th>\n      <td>False</td>\n      <td>True</td>\n      <td>False</td>\n      <td>False</td>\n      <td>True</td>\n      <td>True</td>\n    </tr>\n    <tr>\n      <th>8</th>\n      <td>True</td>\n      <td>False</td>\n      <td>False</td>\n      <td>True</td>\n      <td>True</td>\n      <td>False</td>\n    </tr>\n    <tr>\n      <th>9</th>\n      <td>True</td>\n      <td>True</td>\n      <td>True</td>\n      <td>False</td>\n      <td>False</td>\n      <td>False</td>\n    </tr>\n  </tbody>\n</table>\n</div>"
     },
     "metadata": {},
     "execution_count": 5
    }
   ],
   "source": [
    "# Importando pacotes para fazer o processamento\n",
    "import pandas as pd\n",
    "from mlxtend.preprocessing import TransactionEncoder\n",
    "from mlxtend.frequent_patterns import apriori, association_rules\n",
    "\n",
    "# Convertendo as transações em uma matriz com valores binarios\n",
    "encoder = TransactionEncoder()\n",
    "vendas_binaria = encoder.fit_transform(vendas)\n",
    "\n",
    "df = pd.DataFrame(vendas_binaria, columns=encoder.columns_)\n",
    "df"
   ]
  },
  {
   "cell_type": "code",
   "execution_count": 14,
   "metadata": {},
   "outputs": [
    {
     "output_type": "execute_result",
     "data": {
      "text/plain": "    support                  itemsets\n0       0.4                  (Acuçar)\n1       0.3                (Biscoito)\n2       0.4                    (Café)\n3       0.3         (Chocolate em Pó)\n4       0.8                   (Leite)\n5       0.6                     (Pão)\n6       0.2            (Acuçar, Café)\n7       0.3           (Acuçar, Leite)\n8       0.2             (Acuçar, Pão)\n9       0.2         (Biscoito, Leite)\n10      0.2             (Leite, Café)\n11      0.2               (Café, Pão)\n12      0.3  (Chocolate em Pó, Leite)\n13      0.5              (Leite, Pão)\n14      0.2      (Acuçar, Leite, Pão)",
      "text/html": "<div>\n<style scoped>\n    .dataframe tbody tr th:only-of-type {\n        vertical-align: middle;\n    }\n\n    .dataframe tbody tr th {\n        vertical-align: top;\n    }\n\n    .dataframe thead th {\n        text-align: right;\n    }\n</style>\n<table border=\"1\" class=\"dataframe\">\n  <thead>\n    <tr style=\"text-align: right;\">\n      <th></th>\n      <th>support</th>\n      <th>itemsets</th>\n    </tr>\n  </thead>\n  <tbody>\n    <tr>\n      <th>0</th>\n      <td>0.4</td>\n      <td>(Acuçar)</td>\n    </tr>\n    <tr>\n      <th>1</th>\n      <td>0.3</td>\n      <td>(Biscoito)</td>\n    </tr>\n    <tr>\n      <th>2</th>\n      <td>0.4</td>\n      <td>(Café)</td>\n    </tr>\n    <tr>\n      <th>3</th>\n      <td>0.3</td>\n      <td>(Chocolate em Pó)</td>\n    </tr>\n    <tr>\n      <th>4</th>\n      <td>0.8</td>\n      <td>(Leite)</td>\n    </tr>\n    <tr>\n      <th>5</th>\n      <td>0.6</td>\n      <td>(Pão)</td>\n    </tr>\n    <tr>\n      <th>6</th>\n      <td>0.2</td>\n      <td>(Acuçar, Café)</td>\n    </tr>\n    <tr>\n      <th>7</th>\n      <td>0.3</td>\n      <td>(Acuçar, Leite)</td>\n    </tr>\n    <tr>\n      <th>8</th>\n      <td>0.2</td>\n      <td>(Acuçar, Pão)</td>\n    </tr>\n    <tr>\n      <th>9</th>\n      <td>0.2</td>\n      <td>(Biscoito, Leite)</td>\n    </tr>\n    <tr>\n      <th>10</th>\n      <td>0.2</td>\n      <td>(Leite, Café)</td>\n    </tr>\n    <tr>\n      <th>11</th>\n      <td>0.2</td>\n      <td>(Café, Pão)</td>\n    </tr>\n    <tr>\n      <th>12</th>\n      <td>0.3</td>\n      <td>(Chocolate em Pó, Leite)</td>\n    </tr>\n    <tr>\n      <th>13</th>\n      <td>0.5</td>\n      <td>(Leite, Pão)</td>\n    </tr>\n    <tr>\n      <th>14</th>\n      <td>0.2</td>\n      <td>(Acuçar, Leite, Pão)</td>\n    </tr>\n  </tbody>\n</table>\n</div>"
     },
     "metadata": {},
     "execution_count": 14
    }
   ],
   "source": [
    "# Vamos extrair os itens frequentes. Vamos definir um valor de suporte com percentual de 20 %\n",
    "itens_frequentes = apriori(df, min_support=0.2, use_colnames=True)\n",
    "itens_frequentes"
   ]
  },
  {
   "cell_type": "code",
   "execution_count": 15,
   "metadata": {},
   "outputs": [
    {
     "output_type": "execute_result",
     "data": {
      "text/plain": "         antecedents consequents  ...  leverage  conviction\n0           (Acuçar)     (Leite)  ...     -0.02         0.8\n1  (Chocolate em Pó)     (Leite)  ...      0.06         inf\n2              (Pão)     (Leite)  ...      0.02         1.2\n3      (Acuçar, Pão)     (Leite)  ...      0.04         inf\n\n[4 rows x 9 columns]",
      "text/html": "<div>\n<style scoped>\n    .dataframe tbody tr th:only-of-type {\n        vertical-align: middle;\n    }\n\n    .dataframe tbody tr th {\n        vertical-align: top;\n    }\n\n    .dataframe thead th {\n        text-align: right;\n    }\n</style>\n<table border=\"1\" class=\"dataframe\">\n  <thead>\n    <tr style=\"text-align: right;\">\n      <th></th>\n      <th>antecedents</th>\n      <th>consequents</th>\n      <th>antecedent support</th>\n      <th>consequent support</th>\n      <th>support</th>\n      <th>confidence</th>\n      <th>lift</th>\n      <th>leverage</th>\n      <th>conviction</th>\n    </tr>\n  </thead>\n  <tbody>\n    <tr>\n      <th>0</th>\n      <td>(Acuçar)</td>\n      <td>(Leite)</td>\n      <td>0.4</td>\n      <td>0.8</td>\n      <td>0.3</td>\n      <td>0.750000</td>\n      <td>0.937500</td>\n      <td>-0.02</td>\n      <td>0.8</td>\n    </tr>\n    <tr>\n      <th>1</th>\n      <td>(Chocolate em Pó)</td>\n      <td>(Leite)</td>\n      <td>0.3</td>\n      <td>0.8</td>\n      <td>0.3</td>\n      <td>1.000000</td>\n      <td>1.250000</td>\n      <td>0.06</td>\n      <td>inf</td>\n    </tr>\n    <tr>\n      <th>2</th>\n      <td>(Pão)</td>\n      <td>(Leite)</td>\n      <td>0.6</td>\n      <td>0.8</td>\n      <td>0.5</td>\n      <td>0.833333</td>\n      <td>1.041667</td>\n      <td>0.02</td>\n      <td>1.2</td>\n    </tr>\n    <tr>\n      <th>3</th>\n      <td>(Acuçar, Pão)</td>\n      <td>(Leite)</td>\n      <td>0.2</td>\n      <td>0.8</td>\n      <td>0.2</td>\n      <td>1.000000</td>\n      <td>1.250000</td>\n      <td>0.04</td>\n      <td>inf</td>\n    </tr>\n  </tbody>\n</table>\n</div>"
     },
     "metadata": {},
     "execution_count": 15
    }
   ],
   "source": [
    "# Vamos agora extrair as regras com base nos itens frequentes obtidos utilizando a confiança com valor de 70%\n",
    "regras = association_rules(itens_frequentes, metric='confidence', min_threshold=0.7)\n",
    "regras"
   ]
  },
  {
   "cell_type": "markdown",
   "metadata": {},
   "source": [
    "## Analisando o resultado\n",
    "\n",
    "Com base nos parametros de *suporte* e *confiança* conseguimos obter regras que poderão ser utilizadas para possiveis promoções ou outras ações. Existem diferentes tipos de metricas que podem ser utilizadas para melhorar o resultado e obter regras mais refinadas. \n",
    "\n",
    "Com esse exemplo fica claro observar que um algoritmo dessa familia pode nos ajudar a obter insigth valiosos e que agrega ainda mais valor ao negocio."
   ]
  },
  {
   "cell_type": "code",
   "execution_count": null,
   "metadata": {},
   "outputs": [],
   "source": []
  }
 ],
 "metadata": {
  "language_info": {
   "codemirror_mode": {
    "name": "ipython",
    "version": 3
   },
   "file_extension": ".py",
   "mimetype": "text/x-python",
   "name": "python",
   "nbconvert_exporter": "python",
   "pygments_lexer": "ipython3",
   "version": 3
  },
  "orig_nbformat": 2,
  "kernelspec": {
   "name": "python_defaultSpec_1594238830783",
   "display_name": "Python 3.7.6 64-bit ('base': conda)"
  }
 },
 "nbformat": 4,
 "nbformat_minor": 2
}